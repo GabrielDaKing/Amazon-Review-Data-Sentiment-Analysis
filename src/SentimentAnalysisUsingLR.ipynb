{
  "nbformat": 4,
  "nbformat_minor": 0,
  "metadata": {
    "colab": {
      "name": "SentimentAnalysisUsingLR.ipynb",
      "provenance": [],
      "collapsed_sections": []
    },
    "kernelspec": {
      "name": "python3",
      "display_name": "Python 3"
    },
    "language_info": {
      "name": "python"
    },
    "accelerator": "GPU"
  },
  "cells": [
    {
      "cell_type": "markdown",
      "metadata": {
        "id": "-QS3Pgw8EDVd"
      },
      "source": [
        "SENTIMENTAL ANALYSIS USING SENTIMENT VADER"
      ]
    },
    {
      "cell_type": "code",
      "metadata": {
        "colab": {
          "base_uri": "https://localhost:8080/"
        },
        "id": "uU8sx6noDWyH",
        "outputId": "573be2c4-7862-4f6d-c6ef-350e9e36a808"
      },
      "source": [
        "import pandas as pd\n",
        "import numpy as np\n",
        "import nltk\n",
        "import matplotlib.pyplot as plt\n",
        "%pip install imbalanced-learn\n",
        "from imblearn.under_sampling import RandomUnderSampler\n",
        "from keras.preprocessing.text import Tokenizer\n",
        "from keras.preprocessing.sequence import pad_sequences\n",
        "from sklearn.model_selection import train_test_split \n",
        "from sklearn.linear_model import LogisticRegression\n",
        "from sklearn.metrics import accuracy_score, recall_score, confusion_matrix"
      ],
      "execution_count": null,
      "outputs": [
        {
          "output_type": "stream",
          "name": "stdout",
          "text": [
            "Requirement already satisfied: imbalanced-learn in /usr/local/lib/python3.7/dist-packages (0.4.3)\n",
            "Requirement already satisfied: scikit-learn>=0.20 in /usr/local/lib/python3.7/dist-packages (from imbalanced-learn) (0.22.2.post1)\n",
            "Requirement already satisfied: numpy>=1.8.2 in /usr/local/lib/python3.7/dist-packages (from imbalanced-learn) (1.19.5)\n",
            "Requirement already satisfied: scipy>=0.13.3 in /usr/local/lib/python3.7/dist-packages (from imbalanced-learn) (1.4.1)\n",
            "Requirement already satisfied: joblib>=0.11 in /usr/local/lib/python3.7/dist-packages (from scikit-learn>=0.20->imbalanced-learn) (1.1.0)\n"
          ]
        },
        {
          "output_type": "stream",
          "name": "stderr",
          "text": [
            "/usr/local/lib/python3.7/dist-packages/sklearn/externals/six.py:31: FutureWarning: The module is deprecated in version 0.21 and will be removed in version 0.23 since we've dropped support for Python 2.7. Please rely on the official version of six (https://pypi.org/project/six/).\n",
            "  \"(https://pypi.org/project/six/).\", FutureWarning)\n",
            "/usr/local/lib/python3.7/dist-packages/sklearn/utils/deprecation.py:144: FutureWarning: The sklearn.neighbors.base module is  deprecated in version 0.22 and will be removed in version 0.24. The corresponding classes / functions should instead be imported from sklearn.neighbors. Anything that cannot be imported from sklearn.neighbors is now part of the private API.\n",
            "  warnings.warn(message, FutureWarning)\n"
          ]
        }
      ]
    },
    {
      "cell_type": "code",
      "metadata": {
        "id": "jjUwpXMVemMj"
      },
      "source": [
        "df= pd.read_csv('amazon_reviews_us_Electronics_preprocessed_100k.tsv',sep='\\t',error_bad_lines=False )\n",
        "df.dropna(inplace=True)"
      ],
      "execution_count": null,
      "outputs": []
    },
    {
      "cell_type": "code",
      "metadata": {
        "id": "qDhQxCZHe3zu"
      },
      "source": [
        "df_review=df[['star_rating','preprocessed_review_body']]"
      ],
      "execution_count": null,
      "outputs": []
    },
    {
      "cell_type": "code",
      "metadata": {
        "id": "wzQ3XR4BftWa"
      },
      "source": [
        "for i in range(0,len(df_review)-1):\n",
        "    if type(df_review.iloc[i]['preprocessed_review_body']) != str:\n",
        "        df_review.iloc[i]['preprocessed_review_body'] = str(df_review.iloc[i]['preprocessed_review_body'])"
      ],
      "execution_count": null,
      "outputs": []
    },
    {
      "cell_type": "code",
      "metadata": {
        "id": "E904SwD3f_5l"
      },
      "source": [
        "df_review = df_review[df_review['star_rating'] != 3]"
      ],
      "execution_count": null,
      "outputs": []
    },
    {
      "cell_type": "code",
      "metadata": {
        "id": "NnhSgLx6gGnU"
      },
      "source": [
        "def sentiment(n):\n",
        "  if n >= 4: \n",
        "    return 1\n",
        "  elif n<=2:\n",
        "    return 0\n",
        "df_review['sentiment'] = df_review['star_rating'].apply(sentiment)\n"
      ],
      "execution_count": null,
      "outputs": []
    },
    {
      "cell_type": "code",
      "metadata": {
        "id": "36keOA9yGmYp"
      },
      "source": [
        "max_fatures = 5000\n",
        "tokenizer = Tokenizer(num_words=max_fatures, split=' ')\n",
        "tokenizer.fit_on_texts(df_review['preprocessed_review_body'].apply(str).values)\n",
        "X = tokenizer.texts_to_sequences(df_review['preprocessed_review_body'].apply(str).values)\n",
        "X = pad_sequences(X)\n",
        "Y = (df_review['sentiment'])"
      ],
      "execution_count": null,
      "outputs": []
    },
    {
      "cell_type": "code",
      "metadata": {
        "colab": {
          "base_uri": "https://localhost:8080/"
        },
        "id": "YVh4yFRJDeXD",
        "outputId": "f10f9c73-8143-4506-9db8-b5303d015824"
      },
      "source": [
        "rus = RandomUnderSampler(return_indices=False)\n",
        "X, Y = rus.fit_sample(X,Y)"
      ],
      "execution_count": null,
      "outputs": [
        {
          "output_type": "stream",
          "name": "stderr",
          "text": [
            "/usr/local/lib/python3.7/dist-packages/sklearn/utils/deprecation.py:87: FutureWarning: Function safe_indexing is deprecated; safe_indexing is deprecated in version 0.22 and will be removed in version 0.24.\n",
            "  warnings.warn(msg, category=FutureWarning)\n"
          ]
        }
      ]
    },
    {
      "cell_type": "code",
      "metadata": {
        "id": "T58zw9eZDjoB",
        "colab": {
          "base_uri": "https://localhost:8080/"
        },
        "outputId": "f81a0315-6657-499e-a98e-fe47925160c0"
      },
      "source": [
        "X_train, X_test, Y_train, Y_test = train_test_split(X,Y, test_size = 0.25, random_state = 11132021)\n",
        "print(X_train.shape,Y_train.shape)\n",
        "print(X_test.shape,Y_test.shape)"
      ],
      "execution_count": null,
      "outputs": [
        {
          "output_type": "stream",
          "name": "stdout",
          "text": [
            "(25146, 2934) (25146,)\n",
            "(8382, 2934) (8382,)\n"
          ]
        }
      ]
    },
    {
      "cell_type": "code",
      "metadata": {
        "colab": {
          "base_uri": "https://localhost:8080/"
        },
        "id": "Idn6wrFMhmiO",
        "outputId": "ecb239b6-2e35-48e2-a1f0-0de760e19e70"
      },
      "source": [
        "\n",
        "model = LogisticRegression()\n",
        "model.fit(X_train, Y_train)\n",
        "\n"
      ],
      "execution_count": null,
      "outputs": [
        {
          "output_type": "stream",
          "name": "stderr",
          "text": [
            "/usr/local/lib/python3.7/dist-packages/sklearn/linear_model/_logistic.py:940: ConvergenceWarning: lbfgs failed to converge (status=1):\n",
            "STOP: TOTAL NO. of ITERATIONS REACHED LIMIT.\n",
            "\n",
            "Increase the number of iterations (max_iter) or scale the data as shown in:\n",
            "    https://scikit-learn.org/stable/modules/preprocessing.html\n",
            "Please also refer to the documentation for alternative solver options:\n",
            "    https://scikit-learn.org/stable/modules/linear_model.html#logistic-regression\n",
            "  extra_warning_msg=_LOGISTIC_SOLVER_CONVERGENCE_MSG)\n"
          ]
        },
        {
          "output_type": "execute_result",
          "data": {
            "text/plain": [
              "LogisticRegression(C=1.0, class_weight=None, dual=False, fit_intercept=True,\n",
              "                   intercept_scaling=1, l1_ratio=None, max_iter=100,\n",
              "                   multi_class='auto', n_jobs=None, penalty='l2',\n",
              "                   random_state=None, solver='lbfgs', tol=0.0001, verbose=0,\n",
              "                   warm_start=False)"
            ]
          },
          "metadata": {},
          "execution_count": 13
        }
      ]
    },
    {
      "cell_type": "code",
      "metadata": {
        "id": "hb3JfroGhvCS"
      },
      "source": [
        "y_pred_class = model.predict(X_test)"
      ],
      "execution_count": null,
      "outputs": []
    },
    {
      "cell_type": "code",
      "metadata": {
        "id": "cygkwyy7h1Cj",
        "colab": {
          "base_uri": "https://localhost:8080/",
          "height": 426
        },
        "outputId": "272a1284-0bdc-495b-8008-8e5bdca355bb"
      },
      "source": [
        "import seaborn as sns\n",
        "import sklearn\n",
        "from scipy import stats\n",
        "import matplotlib.pyplot as plt\n",
        "print(\"the accuracy score is:\"+str(accuracy_score(Y_test, y_pred_class)))\n",
        "print(\"the recall score is:\"+str(recall_score(Y_test, y_pred_class)))\n",
        "cm = confusion_matrix(Y_test, y_pred_class)\n",
        "plt.figure(figsize=(8, 6))\n",
        "plt.title('Confusion Matrix', size=16)\n",
        "sns.heatmap(cm, annot=True, cmap='Blues');\n"
      ],
      "execution_count": null,
      "outputs": [
        {
          "output_type": "stream",
          "name": "stdout",
          "text": [
            "the accuracy score is:0.541994750656168\n",
            "the recall score is:0.1632749645054425\n"
          ]
        },
        {
          "output_type": "display_data",
          "data": {
            "image/png": "[encoded data removed]",
            "text/plain": [
              "<Figure size 576x432 with 2 Axes>"
            ]
          },
          "metadata": {
            "needs_background": "light"
          }
        }
      ]
    }
  ]
}