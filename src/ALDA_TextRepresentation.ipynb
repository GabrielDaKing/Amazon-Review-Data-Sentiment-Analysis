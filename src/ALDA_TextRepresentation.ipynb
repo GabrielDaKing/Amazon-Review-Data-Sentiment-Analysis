{
  "nbformat": 4,
  "nbformat_minor": 0,
  "metadata": {
    "colab": {
      "name": "ALDA_TextRepresentation.ipynb",
      "provenance": [],
      "collapsed_sections": []
    },
    "kernelspec": {
      "name": "python3",
      "display_name": "Python 3"
    },
    "language_info": {
      "name": "python"
    }
  },
  "cells": [
    {
      "cell_type": "code",
      "metadata": {
        "id": "GNDndOpmoFUo",
        "colab": {
          "base_uri": "https://localhost:8080/"
        },
        "outputId": "4e5cdd1b-f147-4851-b376-0c192c41483b"
      },
      "source": [
        "import pandas as pd\n",
        "from gensim.models import word2vec\n",
        "import nltk\n",
        "nltk.download('punkt')\n",
        "from nltk.corpus import stopwords\n",
        "from nltk.tokenize import word_tokenize \n",
        "from gensim.parsing.preprocessing import remove_stopwords, preprocess_string\n",
        "from collections import Counter\n",
        "import string"
      ],
      "execution_count": null,
      "outputs": [
        {
          "output_type": "stream",
          "name": "stdout",
          "text": [
            "[nltk_data] Downloading package punkt to /root/nltk_data...\n",
            "[nltk_data]   Package punkt is already up-to-date!\n"
          ]
        }
      ]
    },
    {
      "cell_type": "code",
      "metadata": {
        "colab": {
          "base_uri": "https://localhost:8080/"
        },
        "id": "QDZcd6YbotZv",
        "outputId": "f3a826e9-2a3c-4f1c-f388-e22c83943b26"
      },
      "source": [
        "df = pd.read_csv('amazon_reviews_us_Electronics_v1_00.tsv',sep='\\t',error_bad_lines=False )"
      ],
      "execution_count": null,
      "outputs": [
        {
          "output_type": "stream",
          "name": "stderr",
          "text": [
            "b'Skipping line 9076: expected 15 fields, saw 22\\nSkipping line 19256: expected 15 fields, saw 22\\nSkipping line 24313: expected 15 fields, saw 22\\nSkipping line 47211: expected 15 fields, saw 22\\nSkipping line 54295: expected 15 fields, saw 22\\nSkipping line 56641: expected 15 fields, saw 22\\nSkipping line 63067: expected 15 fields, saw 22\\n'\n",
            "b'Skipping line 93796: expected 15 fields, saw 22\\n'\n",
            "b'Skipping line 132806: expected 15 fields, saw 22\\nSkipping line 164631: expected 15 fields, saw 22\\nSkipping line 167019: expected 15 fields, saw 22\\nSkipping line 167212: expected 15 fields, saw 22\\n'\n",
            "b'Skipping line 198103: expected 15 fields, saw 22\\nSkipping line 199191: expected 15 fields, saw 22\\nSkipping line 202841: expected 15 fields, saw 22\\nSkipping line 218228: expected 15 fields, saw 22\\nSkipping line 235900: expected 15 fields, saw 22\\n'\n",
            "b'Skipping line 277761: expected 15 fields, saw 22\\nSkipping line 304582: expected 15 fields, saw 22\\nSkipping line 312029: expected 15 fields, saw 22\\n'\n",
            "b'Skipping line 343692: expected 15 fields, saw 22\\nSkipping line 352291: expected 15 fields, saw 22\\nSkipping line 363414: expected 15 fields, saw 22\\nSkipping line 378087: expected 15 fields, saw 22\\nSkipping line 378720: expected 15 fields, saw 22\\nSkipping line 378760: expected 15 fields, saw 22\\nSkipping line 379336: expected 15 fields, saw 22\\n'\n",
            "b'Skipping line 402682: expected 15 fields, saw 22\\n'\n",
            "b'Skipping line 466560: expected 15 fields, saw 22\\nSkipping line 486823: expected 15 fields, saw 22\\nSkipping line 489036: expected 15 fields, saw 22\\nSkipping line 496148: expected 15 fields, saw 22\\nSkipping line 522330: expected 15 fields, saw 22\\n'\n",
            "b'Skipping line 552961: expected 15 fields, saw 22\\nSkipping line 577388: expected 15 fields, saw 22\\nSkipping line 582182: expected 15 fields, saw 22\\n'\n",
            "b'Skipping line 590653: expected 15 fields, saw 22\\nSkipping line 608846: expected 15 fields, saw 22\\nSkipping line 615442: expected 15 fields, saw 22\\nSkipping line 645607: expected 15 fields, saw 22\\nSkipping line 654323: expected 15 fields, saw 22\\n'\n",
            "b'Skipping line 714935: expected 15 fields, saw 22\\n'\n",
            "b'Skipping line 749608: expected 15 fields, saw 22\\nSkipping line 753868: expected 15 fields, saw 22\\nSkipping line 762504: expected 15 fields, saw 22\\nSkipping line 771706: expected 15 fields, saw 22\\nSkipping line 773376: expected 15 fields, saw 22\\n'\n",
            "b'Skipping line 792407: expected 15 fields, saw 22\\nSkipping line 793933: expected 15 fields, saw 22\\nSkipping line 813269: expected 15 fields, saw 22\\nSkipping line 835491: expected 15 fields, saw 22\\nSkipping line 841176: expected 15 fields, saw 22\\nSkipping line 844604: expected 15 fields, saw 22\\n'\n",
            "b'Skipping line 857952: expected 15 fields, saw 22\\nSkipping line 859568: expected 15 fields, saw 22\\nSkipping line 860789: expected 15 fields, saw 22\\nSkipping line 863093: expected 15 fields, saw 22\\n'\n"
          ]
        }
      ]
    },
    {
      "cell_type": "code",
      "metadata": {
        "id": "_x66GaZupuAW"
      },
      "source": [
        "file = open(\"corpus.txt\", \"a\",encoding=\"utf-8\") \n",
        "\n",
        "for index, row in df.iterrows():\n",
        "    file.write(remove_stopwords(str(row['review_body']))+'\\n')\n",
        "file.close()"
      ],
      "execution_count": null,
      "outputs": []
    },
    {
      "cell_type": "code",
      "metadata": {
        "id": "9YPZYyVYSo7P"
      },
      "source": [
        "sentences = []\n",
        "with open('corpus.txt', 'r',encoding=\"utf-8\") as f:\n",
        "    sentences = f.readlines()\n",
        "# sentences = sentences[:1_000_000]"
      ],
      "execution_count": null,
      "outputs": []
    },
    {
      "cell_type": "code",
      "metadata": {
        "id": "BXKs3IhA67YL"
      },
      "source": [
        "def modified_tokenize(sentence):\n",
        "  sentence = list(map(lambda x: x.lower(), word_tokenize(sentence)))\n",
        "  for i in range(len(sentence)):\n",
        "    if string.punctuation in sentence[i]:\n",
        "      if sentence[i][-1] in string.punctuation:\n",
        "        sentence[i] = sentence[:-1]\n",
        "      else:\n",
        "        sentence.remove(i)\n",
        "  return sentence"
      ],
      "execution_count": null,
      "outputs": []
    },
    {
      "cell_type": "code",
      "metadata": {
        "id": "4Vfo4y4xpupe"
      },
      "source": [
        "word_count = Counter()\n",
        "sentences_in_words = []\n",
        "for i in range(len(sentences)):\n",
        "    sentences_in_words.append(modified_tokenize(sentences[i]))\n",
        "    \n",
        "    for word in sentences_in_words[i]:\n",
        "        \n",
        "        if len(word)>1 and type(word)==str and string.punctuation not in word:\n",
        "          word_count.update({str(word): 1})\n",
        "        "
      ],
      "execution_count": null,
      "outputs": []
    },
    {
      "cell_type": "code",
      "metadata": {
        "id": "1AUG4Tg6p2Vp"
      },
      "source": [
        "model = word2vec.Word2Vec(sentences_in_words)"
      ],
      "execution_count": null,
      "outputs": []
    },
    {
      "cell_type": "code",
      "metadata": {
        "id": "ueVFtAtwp6FX",
        "colab": {
          "base_uri": "https://localhost:8080/"
        },
        "outputId": "00d2492c-cec9-42be-b681-ce2641601ab0"
      },
      "source": [
        "model.wv.most_similar(['best'], topn=8)"
      ],
      "execution_count": null,
      "outputs": [
        {
          "output_type": "execute_result",
          "data": {
            "text/plain": [
              "[('greatest', 0.7494461536407471),\n",
              " ('worst', 0.7168004512786865),\n",
              " ('nicest', 0.6873034238815308),\n",
              " ('better', 0.6098830699920654),\n",
              " ('finest', 0.6093013882637024),\n",
              " ('clearest', 0.6038334965705872),\n",
              " ('superior', 0.6003611087799072),\n",
              " ('cleanest', 0.585466742515564)]"
            ]
          },
          "metadata": {},
          "execution_count": 22
        }
      ]
    },
    {
      "cell_type": "code",
      "metadata": {
        "id": "4_OCWOOiyvdQ"
      },
      "source": [
        "model.save('basic_electronics_review.model')\n",
        "model.wv.save_word2vec_format('basic_electronics_review.model.bin', binary=True)\n",
        "# model = word2vec.Word2Vec.load_word2vec_format('/tmp/vectors.bin', binary=True)"
      ],
      "execution_count": null,
      "outputs": []
    },
    {
      "cell_type": "code",
      "metadata": {
        "colab": {
          "base_uri": "https://localhost:8080/"
        },
        "id": "plL14iUCGmOX",
        "outputId": "8b8d1f02-128b-49c3-c54f-af97b220a547"
      },
      "source": [
        "word_count.most_common(20)"
      ],
      "execution_count": null,
      "outputs": [
        {
          "output_type": "execute_result",
          "data": {
            "text/plain": [
              "[('br', 362634),\n",
              " ('it', 294907),\n",
              " ('great', 276061),\n",
              " ('the', 227954),\n",
              " (\"n't\", 227447),\n",
              " ('sound', 218407),\n",
              " ('good', 192688),\n",
              " (\"'s\", 154428),\n",
              " ('works', 142218),\n",
              " ('quality', 127830),\n",
              " ('use', 118798),\n",
              " ('this', 115486),\n",
              " ('product', 108743),\n",
              " ('like', 104893),\n",
              " ('price', 100791),\n",
              " ('work', 100161),\n",
              " ('headphones', 96374),\n",
              " ('34', 92014),\n",
              " ('speaker', 88745),\n",
              " ('tv', 85063)]"
            ]
          },
          "metadata": {},
          "execution_count": 14
        }
      ]
    },
    {
      "cell_type": "code",
      "metadata": {
        "id": "btE7m2puGnBi"
      },
      "source": [
        "common_words = ['great','sound','good','works','quality','product','price','like','work','heaphones','tv']"
      ],
      "execution_count": null,
      "outputs": []
    },
    {
      "cell_type": "code",
      "metadata": {
        "colab": {
          "base_uri": "https://localhost:8080/"
        },
        "id": "cjsCqTL_-n8v",
        "outputId": "b6524b94-f1f6-4c3d-9025-7be96e9ed779"
      },
      "source": [
        "for word in common_words:\n",
        "  print(word,model.wv.most_similar([word], topn=3))"
      ],
      "execution_count": null,
      "outputs": [
        {
          "output_type": "stream",
          "name": "stdout",
          "text": [
            "great [('fantastic', 0.8480622172355652), ('awesome', 0.8367749452590942), ('good', 0.8209725022315979)]\n",
            "sound [('sounds', 0.7705094814300537), ('sounding', 0.6725955009460449), ('imaging', 0.6256886124610901)]\n",
            "good [('decent', 0.8965661525726318), ('great', 0.8209725022315979), ('excellent', 0.7313956618309021)]\n",
            "works [('worked', 0.8000662326812744), ('performs', 0.6535431146621704), ('functioned', 0.6287904977798462)]\n",
            "quality [('fidelity', 0.7584156394004822), ('quality..', 0.6597788333892822), ('quality.', 0.6188468933105469)]\n",
            "product [('item', 0.8698714375495911), ('products', 0.6288233995437622), ('seller', 0.5384914875030518)]\n",
            "price [('prices', 0.6787002086639404), ('pricing', 0.6664294004440308), ('cost', 0.6651983261108398)]\n",
            "like [('silly', 0.5628789663314819), ('prefer', 0.5460392236709595), ('weird', 0.5392311811447144)]\n",
            "work [('worked', 0.7315524816513062), ('works', 0.6161193251609802), ('working', 0.6011919379234314)]\n",
            "heaphones [('in-ears', 0.732327938079834), ('headphones/earbuds', 0.7267470359802246), ('earphones', 0.7256968021392822)]\n",
            "tv [('television', 0.9146594405174255), ('t.v', 0.8556917309761047), ('tvs', 0.7346213459968567)]\n"
          ]
        }
      ]
    },
    {
      "cell_type": "code",
      "metadata": {
        "colab": {
          "base_uri": "https://localhost:8080/"
        },
        "id": "-INzDRlQD2Pr",
        "outputId": "a08c4c6f-4c66-425f-8650-0a6eaf5b82ca"
      },
      "source": [
        "print(\"Raw sentence:\",df['review_body'][101])\n",
        "print(\"Stop words removed sentence:\",sentences[101])"
      ],
      "execution_count": null,
      "outputs": [
        {
          "output_type": "stream",
          "name": "stdout",
          "text": [
            "Raw sentence: First off, I bought this product on sale for $25 off of Amazon. What a great deal, this bluetooth speaker is LOUD! It's got fair bass levels for the size and price point. Both front and back of the device emit sound, though front is louder. I think this gives it better quality and more range. I use this out by the pool and plan on using for fishing trips and tailgates. The only reason i did not give it 5 stars, when pressing the volume +/- the music stops for a &#34;boop&#34; noise. Also, when powering on, changing modes, or pairing a device, the speaker plays a womens voice that sounds almost comical. It's a little goofy, but at this price point who cares. This speaker is comparable to high end units of the same size, with just slightly less bass.<br /><br />Thanks Amazon!\n",
            "Stop words removed sentence: First off, I bought product sale $25 Amazon. What great deal, bluetooth speaker LOUD! It's got fair bass levels size price point. Both device emit sound, louder. I think gives better quality range. I use pool plan fishing trips tailgates. The reason 5 stars, pressing volume +/- music stops &#34;boop&#34; noise. Also, powering on, changing modes, pairing device, speaker plays womens voice sounds comical. It's little goofy, price point cares. This speaker comparable high end units size, slightly bass.<br /><br />Thanks Amazon!\n",
            "\n"
          ]
        }
      ]
    },
    {
      "cell_type": "code",
      "metadata": {
        "id": "u67MTdTMD4PQ"
      },
      "source": [
        ""
      ],
      "execution_count": null,
      "outputs": []
    }
  ]
}
