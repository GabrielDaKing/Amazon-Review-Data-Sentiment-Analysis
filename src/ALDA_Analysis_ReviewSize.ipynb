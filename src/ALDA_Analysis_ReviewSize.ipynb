{
  "nbformat": 4,
  "nbformat_minor": 0,
  "metadata": {
    "colab": {
      "name": "ALDA_Analysis_ReviewSize",
      "provenance": []
    },
    "kernelspec": {
      "name": "python3",
      "display_name": "Python 3"
    },
    "language_info": {
      "name": "python"
    }
  },
  "cells": [
    {
      "cell_type": "code",
      "metadata": {
        "colab": {
          "base_uri": "https://localhost:8080/"
        },
        "id": "LsM4RWAocLP1",
        "outputId": "b95a2ff3-281b-4aa9-c7cf-d01329279a38"
      },
      "source": [
        "from google.colab import drive\n",
        "drive.mount('/content/drive')"
      ],
      "execution_count": null,
      "outputs": [
        {
          "output_type": "stream",
          "name": "stdout",
          "text": [
            "Mounted at /content/drive\n"
          ]
        }
      ]
    },
    {
      "cell_type": "code",
      "metadata": {
        "colab": {
          "base_uri": "https://localhost:8080/"
        },
        "id": "erj_q7yQb254",
        "outputId": "b325c654-96be-4879-b27f-2ead8b4aed87"
      },
      "source": [
        "import numpy as np\n",
        "import pandas as pd\n",
        "\n",
        "import string\n",
        "%pip install contractions\n",
        "import contractions\n",
        "import string"
      ],
      "execution_count": null,
      "outputs": [
        {
          "output_type": "stream",
          "name": "stdout",
          "text": [
            "Collecting contractions\n",
            "  Downloading contractions-0.0.58-py2.py3-none-any.whl (8.0 kB)\n",
            "Collecting textsearch>=0.0.21\n",
            "  Downloading textsearch-0.0.21-py2.py3-none-any.whl (7.5 kB)\n",
            "Collecting pyahocorasick\n",
            "  Downloading pyahocorasick-1.4.2.tar.gz (321 kB)\n",
            "\u001b[K     |████████████████████████████████| 321 kB 36.0 MB/s \n",
            "\u001b[?25hCollecting anyascii\n",
            "  Downloading anyascii-0.3.0-py3-none-any.whl (284 kB)\n",
            "\u001b[K     |████████████████████████████████| 284 kB 48.4 MB/s \n",
            "\u001b[?25hBuilding wheels for collected packages: pyahocorasick\n",
            "  Building wheel for pyahocorasick (setup.py) ... \u001b[?25l\u001b[?25hdone\n",
            "  Created wheel for pyahocorasick: filename=pyahocorasick-1.4.2-cp37-cp37m-linux_x86_64.whl size=85438 sha256=3712eddf7bdcd9bb08f4f510f24986960db7753535ce3ecb453a080287074206\n",
            "  Stored in directory: /root/.cache/pip/wheels/25/19/a6/8f363d9939162782bb8439d886469756271abc01f76fbd790f\n",
            "Successfully built pyahocorasick\n",
            "Installing collected packages: pyahocorasick, anyascii, textsearch, contractions\n",
            "Successfully installed anyascii-0.3.0 contractions-0.0.58 pyahocorasick-1.4.2 textsearch-0.0.21\n"
          ]
        }
      ]
    },
    {
      "cell_type": "code",
      "metadata": {
        "id": "dk7BXqAjcUoW"
      },
      "source": [
        "df = pd.read_csv('/content/drive/MyDrive/ALDA_Project/amazon_reviews_us_combined_preprocessed.tsv',sep='\\t',error_bad_lines=False )"
      ],
      "execution_count": null,
      "outputs": []
    },
    {
      "cell_type": "code",
      "metadata": {
        "colab": {
          "base_uri": "https://localhost:8080/"
        },
        "id": "GN2r6HI27CA0",
        "outputId": "bce55ba4-2983-4855-af52-7fcbfb71e54b"
      },
      "source": [
        "df.columns"
      ],
      "execution_count": null,
      "outputs": [
        {
          "output_type": "execute_result",
          "data": {
            "text/plain": [
              "Index(['marketplace', 'customer_id', 'review_id', 'product_id',\n",
              "       'product_parent', 'product_title', 'product_category', 'star_rating',\n",
              "       'helpful_votes', 'total_votes', 'vine', 'verified_purchase',\n",
              "       'review_headline', 'review_body', 'review_date',\n",
              "       'preprocessed_review_body'],\n",
              "      dtype='object')"
            ]
          },
          "metadata": {},
          "execution_count": 4
        }
      ]
    },
    {
      "cell_type": "code",
      "metadata": {
        "id": "xw7N0PiG5DBR"
      },
      "source": [
        "df['review_size'] = df['review_body'].str.split().str.len()\n",
        "df['helpful_rate'] = df['helpful_votes']/df['total_votes']"
      ],
      "execution_count": null,
      "outputs": []
    },
    {
      "cell_type": "code",
      "metadata": {
        "colab": {
          "base_uri": "https://localhost:8080/"
        },
        "id": "PjCle0fp4uzj",
        "outputId": "63b9c142-0559-44dc-9194-46a5801e880b"
      },
      "source": [
        "df['helpful_rate'].corr(df['review_size'])"
      ],
      "execution_count": null,
      "outputs": [
        {
          "output_type": "execute_result",
          "data": {
            "text/plain": [
              "0.13065454989523967"
            ]
          },
          "metadata": {},
          "execution_count": 6
        }
      ]
    },
    {
      "cell_type": "code",
      "metadata": {
        "colab": {
          "base_uri": "https://localhost:8080/"
        },
        "id": "hgmylwaB5U9C",
        "outputId": "316f60dd-514b-4139-c669-31d0af22e29f"
      },
      "source": [
        "df.groupby(\"product_category\")[\"review_size\"].median()"
      ],
      "execution_count": null,
      "outputs": [
        {
          "output_type": "execute_result",
          "data": {
            "text/plain": [
              "product_category\n",
              "Apparel                     22.0\n",
              "Automotive                  12.0\n",
              "Baby                        22.0\n",
              "Beauty                      16.0\n",
              "Books                       99.0\n",
              "Camera                      18.0\n",
              "Digital_Ebook_Purchase      38.0\n",
              "Digital_Music_Purchase       7.0\n",
              "Digital_Software            19.0\n",
              "Digital_Video_Download       8.0\n",
              "Digital_Video_Games          9.0\n",
              "Electronics                 16.0\n",
              "Furniture                   21.0\n",
              "Gift Card                    7.0\n",
              "Grocery                     14.0\n",
              "Health & Personal Care      17.0\n",
              "Major Appliances            22.0\n",
              "Mobile_Apps                  9.0\n",
              "Mobile_Electronics          16.0\n",
              "Music                       10.0\n",
              "Musical Instruments         17.0\n",
              "Office Products             13.0\n",
              "Outdoors                    19.0\n",
              "PC                          15.0\n",
              "Personal_Care_Appliances    16.0\n",
              "Pet Products                20.0\n",
              "Shoes                       15.0\n",
              "Software                    16.0\n",
              "Sports                      14.0\n",
              "Tools                       13.0\n",
              "Toys                        13.0\n",
              "Video                       10.0\n",
              "Video DVD                   10.0\n",
              "Video Games                 11.0\n",
              "Watches                     15.0\n",
              "Wireless                    16.0\n",
              "Name: review_size, dtype: float64"
            ]
          },
          "metadata": {},
          "execution_count": 7
        }
      ]
    },
    {
      "cell_type": "code",
      "metadata": {
        "colab": {
          "base_uri": "https://localhost:8080/"
        },
        "id": "H-FuCxLk7FTL",
        "outputId": "871048c9-5ddf-4eab-e9fd-22d6c560abb9"
      },
      "source": [
        "df.groupby(\"star_rating\")[\"review_size\"].mean()"
      ],
      "execution_count": null,
      "outputs": [
        {
          "output_type": "execute_result",
          "data": {
            "text/plain": [
              "star_rating\n",
              "1    49.297031\n",
              "2    56.746300\n",
              "3    54.001291\n",
              "4    51.101387\n",
              "5    33.016837\n",
              "Name: review_size, dtype: float64"
            ]
          },
          "metadata": {},
          "execution_count": 8
        }
      ]
    }
  ]
}