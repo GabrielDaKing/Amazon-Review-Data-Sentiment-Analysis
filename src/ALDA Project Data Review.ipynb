{
 "cells": [
  {
   "cell_type": "code",
   "execution_count": 2,
   "metadata": {},
   "outputs": [],
   "source": [
    "import pandas as pd\n",
    "import numpy as np"
   ]
  },
  {
   "cell_type": "code",
   "execution_count": 3,
   "metadata": {},
   "outputs": [],
   "source": [
    "df=pd.read_csv('sample.csv')"
   ]
  },
  {
   "cell_type": "code",
   "execution_count": 4,
   "metadata": {},
   "outputs": [
    {
     "data": {
      "text/html": [
       "<div>\n",
       "<style scoped>\n",
       "    .dataframe tbody tr th:only-of-type {\n",
       "        vertical-align: middle;\n",
       "    }\n",
       "\n",
       "    .dataframe tbody tr th {\n",
       "        vertical-align: top;\n",
       "    }\n",
       "\n",
       "    .dataframe thead th {\n",
       "        text-align: right;\n",
       "    }\n",
       "</style>\n",
       "<table border=\"1\" class=\"dataframe\">\n",
       "  <thead>\n",
       "    <tr style=\"text-align: right;\">\n",
       "      <th></th>\n",
       "      <th>marketplace</th>\n",
       "      <th>customer_id</th>\n",
       "      <th>review_id</th>\n",
       "      <th>product_id</th>\n",
       "      <th>product_parent</th>\n",
       "      <th>product_title</th>\n",
       "      <th>product_category</th>\n",
       "      <th>star_rating</th>\n",
       "      <th>helpful_votes</th>\n",
       "      <th>total_votes</th>\n",
       "      <th>vine</th>\n",
       "      <th>verified_purchase</th>\n",
       "      <th>review_headline</th>\n",
       "      <th>review_body</th>\n",
       "      <th>review_date</th>\n",
       "    </tr>\n",
       "  </thead>\n",
       "  <tbody>\n",
       "    <tr>\n",
       "      <th>0</th>\n",
       "      <td>US</td>\n",
       "      <td>53096384</td>\n",
       "      <td>R63J84G1LOX6R</td>\n",
       "      <td>1563890119</td>\n",
       "      <td>763187671</td>\n",
       "      <td>The Sandman Vol. 1: Preludes and Nocturnes</td>\n",
       "      <td>Books</td>\n",
       "      <td>4</td>\n",
       "      <td>0</td>\n",
       "      <td>1</td>\n",
       "      <td>N</td>\n",
       "      <td>N</td>\n",
       "      <td>ignore the review below</td>\n",
       "      <td>this is the first 8 issues of the series. it i...</td>\n",
       "      <td>8/13/1995</td>\n",
       "    </tr>\n",
       "    <tr>\n",
       "      <th>1</th>\n",
       "      <td>US</td>\n",
       "      <td>53096399</td>\n",
       "      <td>R1BALOA11Z06MT</td>\n",
       "      <td>1559947608</td>\n",
       "      <td>381720534</td>\n",
       "      <td>The 22 Immutable Laws of Marketing</td>\n",
       "      <td>Books</td>\n",
       "      <td>4</td>\n",
       "      <td>0</td>\n",
       "      <td>0</td>\n",
       "      <td>N</td>\n",
       "      <td>N</td>\n",
       "      <td>awesome</td>\n",
       "      <td>I've always been partial to immutable laws. Th...</td>\n",
       "      <td>8/17/1995</td>\n",
       "    </tr>\n",
       "    <tr>\n",
       "      <th>2</th>\n",
       "      <td>US</td>\n",
       "      <td>53096332</td>\n",
       "      <td>R1LLAY5W5PZUS4</td>\n",
       "      <td>671701800</td>\n",
       "      <td>860650224</td>\n",
       "      <td>Contact</td>\n",
       "      <td>Books</td>\n",
       "      <td>5</td>\n",
       "      <td>1</td>\n",
       "      <td>2</td>\n",
       "      <td>N</td>\n",
       "      <td>N</td>\n",
       "      <td>Read the book. It's good.</td>\n",
       "      <td>This is a book about first contact with aliens...</td>\n",
       "      <td>8/30/1995</td>\n",
       "    </tr>\n",
       "    <tr>\n",
       "      <th>3</th>\n",
       "      <td>US</td>\n",
       "      <td>53096335</td>\n",
       "      <td>R3R9VTJ82FXECQ</td>\n",
       "      <td>425132153</td>\n",
       "      <td>624269601</td>\n",
       "      <td>Good Omens</td>\n",
       "      <td>Books</td>\n",
       "      <td>5</td>\n",
       "      <td>0</td>\n",
       "      <td>0</td>\n",
       "      <td>N</td>\n",
       "      <td>N</td>\n",
       "      <td>Funniest book ever written about the Anti-Christ</td>\n",
       "      <td>This is quite possibly *the* funniest book I h...</td>\n",
       "      <td>9/11/1995</td>\n",
       "    </tr>\n",
       "    <tr>\n",
       "      <th>4</th>\n",
       "      <td>US</td>\n",
       "      <td>51747709</td>\n",
       "      <td>R1P5J3FNBWTFXY</td>\n",
       "      <td>517122707</td>\n",
       "      <td>161411385</td>\n",
       "      <td>A Confederacy of Dunces</td>\n",
       "      <td>Books</td>\n",
       "      <td>5</td>\n",
       "      <td>0</td>\n",
       "      <td>0</td>\n",
       "      <td>N</td>\n",
       "      <td>N</td>\n",
       "      <td>A winner that didn't last. Only a mothers love...</td>\n",
       "      <td>The story behind the book is almost better tha...</td>\n",
       "      <td>10/17/1995</td>\n",
       "    </tr>\n",
       "  </tbody>\n",
       "</table>\n",
       "</div>"
      ],
      "text/plain": [
       "  marketplace  customer_id       review_id  product_id  product_parent  \\\n",
       "0          US     53096384   R63J84G1LOX6R  1563890119       763187671   \n",
       "1          US     53096399  R1BALOA11Z06MT  1559947608       381720534   \n",
       "2          US     53096332  R1LLAY5W5PZUS4   671701800       860650224   \n",
       "3          US     53096335  R3R9VTJ82FXECQ   425132153       624269601   \n",
       "4          US     51747709  R1P5J3FNBWTFXY   517122707       161411385   \n",
       "\n",
       "                                product_title product_category  star_rating  \\\n",
       "0  The Sandman Vol. 1: Preludes and Nocturnes            Books            4   \n",
       "1          The 22 Immutable Laws of Marketing            Books            4   \n",
       "2                                     Contact            Books            5   \n",
       "3                                  Good Omens            Books            5   \n",
       "4                     A Confederacy of Dunces            Books            5   \n",
       "\n",
       "   helpful_votes  total_votes vine verified_purchase  \\\n",
       "0              0            1    N                 N   \n",
       "1              0            0    N                 N   \n",
       "2              1            2    N                 N   \n",
       "3              0            0    N                 N   \n",
       "4              0            0    N                 N   \n",
       "\n",
       "                                     review_headline  \\\n",
       "0                            ignore the review below   \n",
       "1                                            awesome   \n",
       "2                          Read the book. It's good.   \n",
       "3   Funniest book ever written about the Anti-Christ   \n",
       "4  A winner that didn't last. Only a mothers love...   \n",
       "\n",
       "                                         review_body review_date  \n",
       "0  this is the first 8 issues of the series. it i...   8/13/1995  \n",
       "1  I've always been partial to immutable laws. Th...   8/17/1995  \n",
       "2  This is a book about first contact with aliens...   8/30/1995  \n",
       "3  This is quite possibly *the* funniest book I h...   9/11/1995  \n",
       "4  The story behind the book is almost better tha...  10/17/1995  "
      ]
     },
     "execution_count": 4,
     "metadata": {},
     "output_type": "execute_result"
    }
   ],
   "source": [
    "df.head()"
   ]
  },
  {
   "cell_type": "code",
   "execution_count": 5,
   "metadata": {},
   "outputs": [
    {
     "data": {
      "text/plain": [
       "(1048259, 15)"
      ]
     },
     "execution_count": 5,
     "metadata": {},
     "output_type": "execute_result"
    }
   ],
   "source": [
    "df.shape"
   ]
  },
  {
   "cell_type": "code",
   "execution_count": 6,
   "metadata": {},
   "outputs": [
    {
     "data": {
      "text/plain": [
       "(1048259,)"
      ]
     },
     "execution_count": 6,
     "metadata": {},
     "output_type": "execute_result"
    }
   ],
   "source": [
    "pd.unique(df.review_id).shape"
   ]
  },
  {
   "cell_type": "code",
   "execution_count": 7,
   "metadata": {},
   "outputs": [
    {
     "data": {
      "text/plain": [
       "(735559,)"
      ]
     },
     "execution_count": 7,
     "metadata": {},
     "output_type": "execute_result"
    }
   ],
   "source": [
    "pd.unique(df.customer_id).shape"
   ]
  },
  {
   "cell_type": "code",
   "execution_count": 8,
   "metadata": {},
   "outputs": [
    {
     "data": {
      "text/plain": [
       "(444880,)"
      ]
     },
     "execution_count": 8,
     "metadata": {},
     "output_type": "execute_result"
    }
   ],
   "source": [
    "pd.unique(df.product_id).shape"
   ]
  },
  {
   "cell_type": "code",
   "execution_count": 9,
   "metadata": {},
   "outputs": [
    {
     "data": {
      "text/plain": [
       "array(['US'], dtype=object)"
      ]
     },
     "execution_count": 9,
     "metadata": {},
     "output_type": "execute_result"
    }
   ],
   "source": [
    "pd.unique(df.marketplace)"
   ]
  },
  {
   "cell_type": "code",
   "execution_count": 10,
   "metadata": {
    "scrolled": true
   },
   "outputs": [
    {
     "data": {
      "text/plain": [
       "array(['Books', 'Music', 'Video', 'Video DVD', 'Toys', 'Tools',\n",
       "       'Office Products', 'Apparel', 'Automotive', 'Baby', 'Beauty',\n",
       "       'Camera', 'Digital_Ebook_Purchase', 'Digital_Music_Purchase',\n",
       "       'Digital_Software', 'Digital_Video_Download'], dtype=object)"
      ]
     },
     "execution_count": 10,
     "metadata": {},
     "output_type": "execute_result"
    }
   ],
   "source": [
    "pd.unique(df.product_category)"
   ]
  },
  {
   "cell_type": "code",
   "execution_count": 11,
   "metadata": {},
   "outputs": [
    {
     "data": {
      "text/plain": [
       "(16,)"
      ]
     },
     "execution_count": 11,
     "metadata": {},
     "output_type": "execute_result"
    }
   ],
   "source": [
    "pd.unique(df.product_category).shape"
   ]
  },
  {
   "cell_type": "code",
   "execution_count": 12,
   "metadata": {
    "scrolled": true
   },
   "outputs": [
    {
     "data": {
      "text/plain": [
       "array([4, 5, 2, 3, 1], dtype=int64)"
      ]
     },
     "execution_count": 12,
     "metadata": {},
     "output_type": "execute_result"
    }
   ],
   "source": [
    "pd.unique(df.star_rating)"
   ]
  },
  {
   "cell_type": "code",
   "execution_count": 13,
   "metadata": {
    "scrolled": true
   },
   "outputs": [
    {
     "data": {
      "text/plain": [
       "array(['N', 'Y'], dtype=object)"
      ]
     },
     "execution_count": 13,
     "metadata": {},
     "output_type": "execute_result"
    }
   ],
   "source": [
    "pd.unique(df.vine)"
   ]
  },
  {
   "cell_type": "code",
   "execution_count": 14,
   "metadata": {
    "scrolled": true
   },
   "outputs": [
    {
     "data": {
      "text/plain": [
       "array(['N', 'Y'], dtype=object)"
      ]
     },
     "execution_count": 14,
     "metadata": {},
     "output_type": "execute_result"
    }
   ],
   "source": [
    "pd.unique(df.verified_purchase)"
   ]
  },
  {
   "cell_type": "code",
   "execution_count": 15,
   "metadata": {},
   "outputs": [
    {
     "data": {
      "text/plain": [
       "(16,)"
      ]
     },
     "execution_count": 15,
     "metadata": {},
     "output_type": "execute_result"
    }
   ],
   "source": [
    "pd.unique(df.product_category).shape"
   ]
  },
  {
   "cell_type": "code",
   "execution_count": 16,
   "metadata": {},
   "outputs": [],
   "source": [
    "df.review_date=pd.to_datetime(df.review_date)"
   ]
  },
  {
   "cell_type": "code",
   "execution_count": 17,
   "metadata": {},
   "outputs": [
    {
     "data": {
      "text/plain": [
       "Timestamp('1995-08-13 00:00:00')"
      ]
     },
     "execution_count": 17,
     "metadata": {},
     "output_type": "execute_result"
    }
   ],
   "source": [
    "df.review_date.min()"
   ]
  },
  {
   "cell_type": "code",
   "execution_count": 18,
   "metadata": {
    "scrolled": true
   },
   "outputs": [
    {
     "data": {
      "text/plain": [
       "Timestamp('2015-08-31 00:00:00')"
      ]
     },
     "execution_count": 18,
     "metadata": {},
     "output_type": "execute_result"
    }
   ],
   "source": [
    "df.review_date.max()"
   ]
  },
  {
   "cell_type": "code",
   "execution_count": 19,
   "metadata": {},
   "outputs": [
    {
     "data": {
      "text/plain": [
       "star_rating\n",
       "1    4.235555\n",
       "2    2.575738\n",
       "3    2.002638\n",
       "4    1.822681\n",
       "5    1.807535\n",
       "Name: helpful_votes, dtype: float64"
      ]
     },
     "execution_count": 19,
     "metadata": {},
     "output_type": "execute_result"
    }
   ],
   "source": [
    "df.groupby('star_rating')['helpful_votes'].mean()"
   ]
  },
  {
   "cell_type": "code",
   "execution_count": 20,
   "metadata": {},
   "outputs": [
    {
     "data": {
      "text/plain": [
       "star_rating\n",
       "1    1\n",
       "2    0\n",
       "3    0\n",
       "4    0\n",
       "5    0\n",
       "Name: helpful_votes, dtype: int64"
      ]
     },
     "execution_count": 20,
     "metadata": {},
     "output_type": "execute_result"
    }
   ],
   "source": [
    "df.groupby('star_rating')['helpful_votes'].median()"
   ]
  },
  {
   "cell_type": "code",
   "execution_count": 21,
   "metadata": {},
   "outputs": [
    {
     "data": {
      "text/plain": [
       "star_rating\n",
       "1    7.384952\n",
       "2    4.370939\n",
       "3    3.057366\n",
       "4    2.331212\n",
       "5    2.251974\n",
       "Name: total_votes, dtype: float64"
      ]
     },
     "execution_count": 21,
     "metadata": {},
     "output_type": "execute_result"
    }
   ],
   "source": [
    "df.groupby('star_rating')['total_votes'].mean()"
   ]
  },
  {
   "cell_type": "code",
   "execution_count": 22,
   "metadata": {},
   "outputs": [
    {
     "data": {
      "text/plain": [
       "star_rating\n",
       "1    1\n",
       "2    1\n",
       "3    0\n",
       "4    0\n",
       "5    0\n",
       "Name: total_votes, dtype: int64"
      ]
     },
     "execution_count": 22,
     "metadata": {},
     "output_type": "execute_result"
    }
   ],
   "source": [
    "df.groupby('star_rating')['total_votes'].median()"
   ]
  },
  {
   "cell_type": "code",
   "execution_count": 23,
   "metadata": {},
   "outputs": [],
   "source": [
    "pd.set_option('display.max_rows',1500)"
   ]
  },
  {
   "cell_type": "code",
   "execution_count": 24,
   "metadata": {},
   "outputs": [
    {
     "data": {
      "text/plain": [
       "product_category        star_rating\n",
       "Apparel                 1               1.936348\n",
       "                        2               1.391837\n",
       "                        3               1.634686\n",
       "                        4               1.925732\n",
       "                        5               1.953670\n",
       "Automotive              1               1.752134\n",
       "                        2               1.027691\n",
       "                        3               0.860125\n",
       "                        4               0.668704\n",
       "                        5               0.542728\n",
       "Baby                    1               2.502391\n",
       "                        2               1.427264\n",
       "                        3               1.031991\n",
       "                        4               0.844968\n",
       "                        5               0.787251\n",
       "Beauty                  1               2.740050\n",
       "                        2               1.550330\n",
       "                        3               1.242445\n",
       "                        4               0.797626\n",
       "                        5               1.079810\n",
       "Books                   1              29.130928\n",
       "                        2              17.147988\n",
       "                        3              12.240620\n",
       "                        4               8.491877\n",
       "                        5              10.047985\n",
       "Camera                  1               3.501397\n",
       "                        2               2.026111\n",
       "                        3               1.603142\n",
       "                        4               1.493787\n",
       "                        5               1.147409\n",
       "Digital_Ebook_Purchase  1               7.539634\n",
       "                        2               3.874119\n",
       "                        3               1.519854\n",
       "                        4               0.875361\n",
       "                        5               1.145758\n",
       "Digital_Music_Purchase  1               1.944892\n",
       "                        2               1.230047\n",
       "                        3               0.613303\n",
       "                        4               0.261377\n",
       "                        5               0.211781\n",
       "Digital_Software        1               7.411981\n",
       "                        2               2.926688\n",
       "                        3               2.275111\n",
       "                        4               1.593660\n",
       "                        5               1.499355\n",
       "Digital_Video_Download  1               2.507557\n",
       "                        2               0.739965\n",
       "                        3               0.393731\n",
       "                        4               0.268732\n",
       "                        5               0.229496\n",
       "Music                   1              20.575996\n",
       "                        2              10.562114\n",
       "                        3               6.107656\n",
       "                        4               3.706278\n",
       "                        5               3.981205\n",
       "Office Products         4               7.000000\n",
       "                        5               4.500000\n",
       "Tools                   1              34.000000\n",
       "                        5               4.000000\n",
       "Toys                    4              14.000000\n",
       "                        5              64.000000\n",
       "Video                   1              21.434956\n",
       "                        2              11.586729\n",
       "                        3               5.855696\n",
       "                        4               4.466260\n",
       "                        5               4.981582\n",
       "Video DVD               1              22.171074\n",
       "                        2              10.783491\n",
       "                        3               7.199677\n",
       "                        4               5.735434\n",
       "                        5               5.683193\n",
       "Name: total_votes, dtype: float64"
      ]
     },
     "execution_count": 24,
     "metadata": {},
     "output_type": "execute_result"
    }
   ],
   "source": [
    "df.groupby(['product_category','star_rating'])['total_votes'].mean()"
   ]
  },
  {
   "cell_type": "code",
   "execution_count": 25,
   "metadata": {},
   "outputs": [
    {
     "data": {
      "text/plain": [
       "product_category        star_rating\n",
       "Apparel                 1               0.0\n",
       "                        2               0.0\n",
       "                        3               0.0\n",
       "                        4               0.0\n",
       "                        5               0.0\n",
       "Automotive              1               0.0\n",
       "                        2               0.0\n",
       "                        3               0.0\n",
       "                        4               0.0\n",
       "                        5               0.0\n",
       "Baby                    1               0.0\n",
       "                        2               0.0\n",
       "                        3               0.0\n",
       "                        4               0.0\n",
       "                        5               0.0\n",
       "Beauty                  1               1.0\n",
       "                        2               0.0\n",
       "                        3               0.0\n",
       "                        4               0.0\n",
       "                        5               0.0\n",
       "Books                   1              17.0\n",
       "                        2              10.0\n",
       "                        3               6.0\n",
       "                        4               4.0\n",
       "                        5               4.0\n",
       "Camera                  1               1.0\n",
       "                        2               0.0\n",
       "                        3               0.0\n",
       "                        4               0.0\n",
       "                        5               0.0\n",
       "Digital_Ebook_Purchase  1               3.0\n",
       "                        2               1.0\n",
       "                        3               0.0\n",
       "                        4               0.0\n",
       "                        5               0.0\n",
       "Digital_Music_Purchase  1               0.0\n",
       "                        2               0.0\n",
       "                        3               0.0\n",
       "                        4               0.0\n",
       "                        5               0.0\n",
       "Digital_Software        1               2.0\n",
       "                        2               1.0\n",
       "                        3               0.0\n",
       "                        4               0.0\n",
       "                        5               0.0\n",
       "Digital_Video_Download  1               1.0\n",
       "                        2               0.0\n",
       "                        3               0.0\n",
       "                        4               0.0\n",
       "                        5               0.0\n",
       "Music                   1              14.0\n",
       "                        2               7.0\n",
       "                        3               3.0\n",
       "                        4               1.0\n",
       "                        5               1.0\n",
       "Office Products         4               8.0\n",
       "                        5               4.5\n",
       "Tools                   1              34.0\n",
       "                        5               4.0\n",
       "Toys                    4               5.0\n",
       "                        5              64.0\n",
       "Video                   1              14.0\n",
       "                        2               7.0\n",
       "                        3               3.0\n",
       "                        4               2.0\n",
       "                        5               2.0\n",
       "Video DVD               1              14.0\n",
       "                        2               6.0\n",
       "                        3               3.0\n",
       "                        4               2.0\n",
       "                        5               2.0\n",
       "Name: total_votes, dtype: float64"
      ]
     },
     "execution_count": 25,
     "metadata": {},
     "output_type": "execute_result"
    }
   ],
   "source": [
    "df.groupby(['product_category','star_rating'])['total_votes'].median()"
   ]
  },
  {
   "cell_type": "code",
   "execution_count": 26,
   "metadata": {},
   "outputs": [
    {
     "data": {
      "text/plain": [
       "product_category        star_rating\n",
       "Apparel                 1              11720\n",
       "                        2               6689\n",
       "                        3              10402\n",
       "                        4              17787\n",
       "                        5              53399\n",
       "Automotive              1               8670\n",
       "                        2               3828\n",
       "                        3               6227\n",
       "                        4              13580\n",
       "                        5              67695\n",
       "Baby                    1               7737\n",
       "                        2               5245\n",
       "                        3               7971\n",
       "                        4              14210\n",
       "                        5              64837\n",
       "Beauty                  1               8417\n",
       "                        2               4997\n",
       "                        3               7280\n",
       "                        4              13648\n",
       "                        5              65656\n",
       "Books                   1               8898\n",
       "                        2               6014\n",
       "                        3               9995\n",
       "                        4              23945\n",
       "                        5              75086\n",
       "Camera                  1               9663\n",
       "                        2               4749\n",
       "                        3               7320\n",
       "                        4              15531\n",
       "                        5              62737\n",
       "Digital_Ebook_Purchase  1               3608\n",
       "                        2               4115\n",
       "                        3               9318\n",
       "                        4              23211\n",
       "                        5              59743\n",
       "Digital_Music_Purchase  1               2232\n",
       "                        2               1065\n",
       "                        3               3067\n",
       "                        4              10701\n",
       "                        5              82930\n",
       "Digital_Software        1              23137\n",
       "                        2               6711\n",
       "                        3               8124\n",
       "                        4              16309\n",
       "                        5              45711\n",
       "Digital_Video_Download  1               3308\n",
       "                        2               2292\n",
       "                        3               4211\n",
       "                        4               9169\n",
       "                        5              29312\n",
       "Music                   1               1908\n",
       "                        2               1457\n",
       "                        3               2508\n",
       "                        4               6690\n",
       "                        5              30859\n",
       "Office Products         4                  3\n",
       "                        5                  2\n",
       "Tools                   1                  1\n",
       "                        5                  1\n",
       "Toys                    4                  9\n",
       "                        5                  1\n",
       "Video                   1               1253\n",
       "                        2                859\n",
       "                        3               1185\n",
       "                        4               2623\n",
       "                        5              11782\n",
       "Video DVD               1               1210\n",
       "                        2                739\n",
       "                        3               1237\n",
       "                        4               2729\n",
       "                        5               8996\n",
       "Name: total_votes, dtype: int64"
      ]
     },
     "execution_count": 26,
     "metadata": {},
     "output_type": "execute_result"
    }
   ],
   "source": [
    "df.groupby(['product_category','star_rating'])['total_votes'].count()"
   ]
  },
  {
   "cell_type": "code",
   "execution_count": 27,
   "metadata": {},
   "outputs": [
    {
     "data": {
      "text/plain": [
       "marketplace                  object\n",
       "customer_id                   int64\n",
       "review_id                    object\n",
       "product_id                   object\n",
       "product_parent                int64\n",
       "product_title                object\n",
       "product_category             object\n",
       "star_rating                   int64\n",
       "helpful_votes                 int32\n",
       "total_votes                   int64\n",
       "vine                         object\n",
       "verified_purchase            object\n",
       "review_headline              object\n",
       "review_body                  object\n",
       "review_date          datetime64[ns]\n",
       "dtype: object"
      ]
     },
     "execution_count": 27,
     "metadata": {},
     "output_type": "execute_result"
    }
   ],
   "source": [
    "df.helpful_votes=df.helpful_votes.astype(int)\n",
    "df.dtypes"
   ]
  },
  {
   "cell_type": "code",
   "execution_count": 28,
   "metadata": {},
   "outputs": [
    {
     "data": {
      "text/plain": [
       "product_category        star_rating\n",
       "Apparel                 1               4201\n",
       "                        2               2250\n",
       "                        3               3387\n",
       "                        4               5724\n",
       "                        5              16312\n",
       "Automotive              1               2996\n",
       "                        2               1103\n",
       "                        3               1538\n",
       "                        4               2808\n",
       "                        5              12098\n",
       "Baby                    1               2831\n",
       "                        2               1382\n",
       "                        3               1698\n",
       "                        4               2586\n",
       "                        5              11196\n",
       "Beauty                  1               3588\n",
       "                        2               1603\n",
       "                        3               1925\n",
       "                        4               3035\n",
       "                        5              14853\n",
       "Books                   1               8203\n",
       "                        2               5309\n",
       "                        3               8375\n",
       "                        4              19176\n",
       "                        5              60521\n",
       "Camera                  1               4035\n",
       "                        2               1608\n",
       "                        3               2032\n",
       "                        4               3720\n",
       "                        5              13458\n",
       "Digital_Ebook_Purchase  1               2340\n",
       "                        2               2152\n",
       "                        3               3240\n",
       "                        4               6977\n",
       "                        5              21337\n",
       "Digital_Music_Purchase  1                446\n",
       "                        2                200\n",
       "                        3                360\n",
       "                        4                868\n",
       "                        5               7329\n",
       "Digital_Software        1              15294\n",
       "                        2               3456\n",
       "                        3               2773\n",
       "                        4               3741\n",
       "                        5               9011\n",
       "Digital_Video_Download  1                935\n",
       "                        2                357\n",
       "                        3                490\n",
       "                        4               1051\n",
       "                        5               2038\n",
       "Music                   1               1691\n",
       "                        2               1158\n",
       "                        3               1655\n",
       "                        4               3793\n",
       "                        5              17972\n",
       "Office Products         4                  2\n",
       "                        5                  2\n",
       "Tools                   1                  1\n",
       "                        5                  1\n",
       "Toys                    4                  8\n",
       "                        5                  1\n",
       "Video                   1               1177\n",
       "                        2                686\n",
       "                        3                773\n",
       "                        4               1668\n",
       "                        5               6837\n",
       "Video DVD               1               1146\n",
       "                        2                594\n",
       "                        3                877\n",
       "                        4               1788\n",
       "                        5               5422\n",
       "Name: helpful_votes, dtype: int64"
      ]
     },
     "execution_count": 28,
     "metadata": {},
     "output_type": "execute_result"
    }
   ],
   "source": [
    "df[df.helpful_votes>=1].groupby(['product_category','star_rating'])['helpful_votes'].count()"
   ]
  },
  {
   "cell_type": "code",
   "execution_count": 29,
   "metadata": {},
   "outputs": [
    {
     "data": {
      "text/plain": [
       "product_category\n",
       "Apparel                   66226\n",
       "Automotive                65164\n",
       "Baby                      30406\n",
       "Beauty                    50018\n",
       "Books                     65055\n",
       "Camera                    32188\n",
       "Digital_Ebook_Purchase    49111\n",
       "Digital_Music_Purchase    66625\n",
       "Digital_Software           2983\n",
       "Digital_Video_Download    12248\n",
       "Music                      2628\n",
       "Office Products               1\n",
       "Tools                         1\n",
       "Toys                          2\n",
       "Video                      1496\n",
       "Video DVD                   751\n",
       "Name: product_id, dtype: int64"
      ]
     },
     "execution_count": 29,
     "metadata": {},
     "output_type": "execute_result"
    }
   ],
   "source": [
    "df2=df.drop_duplicates(subset=['product_category','product_id'])\n",
    "df2.groupby('product_category')['product_id'].count()\n"
   ]
  },
  {
   "cell_type": "code",
   "execution_count": 30,
   "metadata": {},
   "outputs": [
    {
     "data": {
      "text/plain": [
       "product_category\n",
       "Apparel                   3.944588\n",
       "Automotive                4.278020\n",
       "Baby                      4.231650\n",
       "Beauty                    4.231315\n",
       "Books                     4.212760\n",
       "Camera                    4.169300\n",
       "Digital_Ebook_Purchase    4.313726\n",
       "Digital_Music_Purchase    4.710406\n",
       "Digital_Software          3.547504\n",
       "Digital_Video_Download    4.219353\n",
       "Music                     4.453986\n",
       "Office Products           4.400000\n",
       "Tools                     3.000000\n",
       "Toys                      4.100000\n",
       "Video                     4.289233\n",
       "Video DVD                 4.177788\n",
       "Name: star_rating, dtype: float64"
      ]
     },
     "execution_count": 30,
     "metadata": {},
     "output_type": "execute_result"
    }
   ],
   "source": [
    "df.groupby('product_category')['star_rating'].mean()"
   ]
  },
  {
   "cell_type": "code",
   "execution_count": 31,
   "metadata": {},
   "outputs": [
    {
     "data": {
      "text/plain": [
       "product_category\n",
       "Apparel                    99997\n",
       "Automotive                100000\n",
       "Baby                      100000\n",
       "Beauty                     99998\n",
       "Books                     123938\n",
       "Camera                    100000\n",
       "Digital_Ebook_Purchase     99995\n",
       "Digital_Music_Purchase     99995\n",
       "Digital_Software           99992\n",
       "Digital_Video_Download     48292\n",
       "Music                      43422\n",
       "Office Products                5\n",
       "Tools                          2\n",
       "Toys                          10\n",
       "Video                      17702\n",
       "Video DVD                  14911\n",
       "Name: review_id, dtype: int64"
      ]
     },
     "execution_count": 31,
     "metadata": {},
     "output_type": "execute_result"
    }
   ],
   "source": [
    "df.groupby('product_category')['review_id'].count()"
   ]
  },
  {
   "cell_type": "code",
   "execution_count": 32,
   "metadata": {},
   "outputs": [
    {
     "data": {
      "text/plain": [
       "star_rating\n",
       "1     91762\n",
       "2     48760\n",
       "3     78845\n",
       "4    170145\n",
       "5    658747\n",
       "Name: review_id, dtype: int64"
      ]
     },
     "execution_count": 32,
     "metadata": {},
     "output_type": "execute_result"
    }
   ],
   "source": [
    "df.groupby('star_rating')['review_id'].count()"
   ]
  },
  {
   "cell_type": "code",
   "execution_count": null,
   "metadata": {},
   "outputs": [],
   "source": []
  }
 ],
 "metadata": {
  "kernelspec": {
   "display_name": "Python 3",
   "language": "python",
   "name": "python3"
  },
  "language_info": {
   "codemirror_mode": {
    "name": "ipython",
    "version": 3
   },
   "file_extension": ".py",
   "mimetype": "text/x-python",
   "name": "python",
   "nbconvert_exporter": "python",
   "pygments_lexer": "ipython3",
   "version": "3.8.5"
  }
 },
 "nbformat": 4,
 "nbformat_minor": 4
}
