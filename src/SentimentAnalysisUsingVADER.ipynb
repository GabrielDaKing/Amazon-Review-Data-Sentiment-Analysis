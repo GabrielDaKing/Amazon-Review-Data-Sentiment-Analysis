{
  "nbformat": 4,
  "nbformat_minor": 0,
  "metadata": {
    "colab": {
      "name": "ALDAMid.ipynb",
      "provenance": [],
      "collapsed_sections": []
    },
    "kernelspec": {
      "name": "python3",
      "display_name": "Python 3"
    },
    "language_info": {
      "name": "python"
    }
  },
  "cells": [
    {
      "cell_type": "code",
      "metadata": {
        "id": "VXCTnN_iC9Vg",
        "colab": {
          "base_uri": "https://localhost:8080/"
        },
        "outputId": "4735641f-25de-4c9e-987d-8fe1bcd8fdfb"
      },
      "source": [
        "import pandas as pd\n",
        "import numpy as np\n",
        "import nltk\n",
        "from nltk.sentiment.vader import SentimentIntensityAnalyzer\n",
        "nltk.download('vader_lexicon')\n",
        "import matplotlib.pyplot as plt\n",
        "sid = SentimentIntensityAnalyzer()"
      ],
      "execution_count": 1,
      "outputs": [
        {
          "output_type": "stream",
          "name": "stdout",
          "text": [
            "[nltk_data] Downloading package vader_lexicon to /root/nltk_data...\n"
          ]
        },
        {
          "output_type": "stream",
          "name": "stderr",
          "text": [
            "/usr/local/lib/python3.7/dist-packages/nltk/twitter/__init__.py:20: UserWarning: The twython library has not been installed. Some functionality from the twitter package will not be available.\n",
            "  warnings.warn(\"The twython library has not been installed. \"\n"
          ]
        }
      ]
    },
    {
      "cell_type": "code",
      "metadata": {
        "colab": {
          "base_uri": "https://localhost:8080/"
        },
        "id": "tNYbniHkEFUL",
        "outputId": "49b4b09c-fcd6-4f44-fe30-3e4313512dad"
      },
      "source": [
        "df = pd.read_csv('amazon_reviews_us_Electronics_v1_00.tsv',sep='\\t',error_bad_lines=False )"
      ],
      "execution_count": 2,
      "outputs": [
        {
          "output_type": "stream",
          "name": "stderr",
          "text": [
            "b'Skipping line 9076: expected 15 fields, saw 22\\nSkipping line 19256: expected 15 fields, saw 22\\nSkipping line 24313: expected 15 fields, saw 22\\nSkipping line 47211: expected 15 fields, saw 22\\nSkipping line 54295: expected 15 fields, saw 22\\nSkipping line 56641: expected 15 fields, saw 22\\nSkipping line 63067: expected 15 fields, saw 22\\n'\n",
            "b'Skipping line 93796: expected 15 fields, saw 22\\n'\n",
            "b'Skipping line 132806: expected 15 fields, saw 22\\nSkipping line 164631: expected 15 fields, saw 22\\nSkipping line 167019: expected 15 fields, saw 22\\nSkipping line 167212: expected 15 fields, saw 22\\n'\n",
            "b'Skipping line 198103: expected 15 fields, saw 22\\nSkipping line 199191: expected 15 fields, saw 22\\nSkipping line 202841: expected 15 fields, saw 22\\nSkipping line 218228: expected 15 fields, saw 22\\nSkipping line 235900: expected 15 fields, saw 22\\n'\n",
            "b'Skipping line 277761: expected 15 fields, saw 22\\nSkipping line 304582: expected 15 fields, saw 22\\nSkipping line 312029: expected 15 fields, saw 22\\n'\n",
            "b'Skipping line 343692: expected 15 fields, saw 22\\nSkipping line 352291: expected 15 fields, saw 22\\n'\n"
          ]
        }
      ]
    },
    {
      "cell_type": "code",
      "metadata": {
        "colab": {
          "base_uri": "https://localhost:8080/",
          "height": 496
        },
        "id": "Lfvalz37E7zF",
        "outputId": "7e2f0eca-529e-46ec-a756-d9abcabea678"
      },
      "source": [
        "df.head()"
      ],
      "execution_count": 3,
      "outputs": [
        {
          "output_type": "execute_result",
          "data": {
            "text/html": [
              "<div>\n",
              "<style scoped>\n",
              "    .dataframe tbody tr th:only-of-type {\n",
              "        vertical-align: middle;\n",
              "    }\n",
              "\n",
              "    .dataframe tbody tr th {\n",
              "        vertical-align: top;\n",
              "    }\n",
              "\n",
              "    .dataframe thead th {\n",
              "        text-align: right;\n",
              "    }\n",
              "</style>\n",
              "<table border=\"1\" class=\"dataframe\">\n",
              "  <thead>\n",
              "    <tr style=\"text-align: right;\">\n",
              "      <th></th>\n",
              "      <th>marketplace</th>\n",
              "      <th>customer_id</th>\n",
              "      <th>review_id</th>\n",
              "      <th>product_id</th>\n",
              "      <th>product_parent</th>\n",
              "      <th>product_title</th>\n",
              "      <th>product_category</th>\n",
              "      <th>star_rating</th>\n",
              "      <th>helpful_votes</th>\n",
              "      <th>total_votes</th>\n",
              "      <th>vine</th>\n",
              "      <th>verified_purchase</th>\n",
              "      <th>review_headline</th>\n",
              "      <th>review_body</th>\n",
              "      <th>review_date</th>\n",
              "    </tr>\n",
              "  </thead>\n",
              "  <tbody>\n",
              "    <tr>\n",
              "      <th>0</th>\n",
              "      <td>US</td>\n",
              "      <td>41409413</td>\n",
              "      <td>R2MTG1GCZLR2DK</td>\n",
              "      <td>B00428R89M</td>\n",
              "      <td>112201306</td>\n",
              "      <td>yoomall 5M Antenna WIFI RP-SMA Female to Male ...</td>\n",
              "      <td>Electronics</td>\n",
              "      <td>5</td>\n",
              "      <td>0</td>\n",
              "      <td>0</td>\n",
              "      <td>N</td>\n",
              "      <td>Y</td>\n",
              "      <td>Five Stars</td>\n",
              "      <td>As described.</td>\n",
              "      <td>2015-08-31</td>\n",
              "    </tr>\n",
              "    <tr>\n",
              "      <th>1</th>\n",
              "      <td>US</td>\n",
              "      <td>49668221</td>\n",
              "      <td>R2HBOEM8LE9928</td>\n",
              "      <td>B000068O48</td>\n",
              "      <td>734576678</td>\n",
              "      <td>Hosa GPM-103 3.5mm TRS to 1/4\" TRS Adaptor</td>\n",
              "      <td>Electronics</td>\n",
              "      <td>5</td>\n",
              "      <td>0</td>\n",
              "      <td>0</td>\n",
              "      <td>N</td>\n",
              "      <td>Y</td>\n",
              "      <td>It works as advertising.</td>\n",
              "      <td>It works as advertising.</td>\n",
              "      <td>2015-08-31</td>\n",
              "    </tr>\n",
              "    <tr>\n",
              "      <th>2</th>\n",
              "      <td>US</td>\n",
              "      <td>12338275</td>\n",
              "      <td>R1P4RW1R9FDPEE</td>\n",
              "      <td>B000GGKOG8</td>\n",
              "      <td>614448099</td>\n",
              "      <td>Channel Master Titan 2 Antenna Preamplifier</td>\n",
              "      <td>Electronics</td>\n",
              "      <td>5</td>\n",
              "      <td>1</td>\n",
              "      <td>1</td>\n",
              "      <td>N</td>\n",
              "      <td>Y</td>\n",
              "      <td>Five Stars</td>\n",
              "      <td>Works pissa</td>\n",
              "      <td>2015-08-31</td>\n",
              "    </tr>\n",
              "    <tr>\n",
              "      <th>3</th>\n",
              "      <td>US</td>\n",
              "      <td>38487968</td>\n",
              "      <td>R1EBPM82ENI67M</td>\n",
              "      <td>B000NU4OTA</td>\n",
              "      <td>72265257</td>\n",
              "      <td>LIMTECH Wall charger + USB Hotsync &amp; Charging ...</td>\n",
              "      <td>Electronics</td>\n",
              "      <td>1</td>\n",
              "      <td>0</td>\n",
              "      <td>0</td>\n",
              "      <td>N</td>\n",
              "      <td>Y</td>\n",
              "      <td>One Star</td>\n",
              "      <td>Did not work at all.</td>\n",
              "      <td>2015-08-31</td>\n",
              "    </tr>\n",
              "    <tr>\n",
              "      <th>4</th>\n",
              "      <td>US</td>\n",
              "      <td>23732619</td>\n",
              "      <td>R372S58V6D11AT</td>\n",
              "      <td>B00JOQIO6S</td>\n",
              "      <td>308169188</td>\n",
              "      <td>Skullcandy Air Raid Portable Bluetooth Speaker</td>\n",
              "      <td>Electronics</td>\n",
              "      <td>5</td>\n",
              "      <td>1</td>\n",
              "      <td>1</td>\n",
              "      <td>N</td>\n",
              "      <td>Y</td>\n",
              "      <td>Overall pleased with the item</td>\n",
              "      <td>Works well. Bass is somewhat lacking but is pr...</td>\n",
              "      <td>2015-08-31</td>\n",
              "    </tr>\n",
              "  </tbody>\n",
              "</table>\n",
              "</div>"
            ],
            "text/plain": [
              "  marketplace  ...  review_date\n",
              "0          US  ...   2015-08-31\n",
              "1          US  ...   2015-08-31\n",
              "2          US  ...   2015-08-31\n",
              "3          US  ...   2015-08-31\n",
              "4          US  ...   2015-08-31\n",
              "\n",
              "[5 rows x 15 columns]"
            ]
          },
          "metadata": {},
          "execution_count": 3
        }
      ]
    },
    {
      "cell_type": "code",
      "metadata": {
        "id": "Ke10qekbE3K5"
      },
      "source": [
        "df_star_review = df[['star_rating','review_body']]\n"
      ],
      "execution_count": 4,
      "outputs": []
    },
    {
      "cell_type": "code",
      "metadata": {
        "colab": {
          "base_uri": "https://localhost:8080/",
          "height": 204
        },
        "id": "67XNd9lgFBix",
        "outputId": "521f352c-bd87-4452-92f7-4ac6d3812f81"
      },
      "source": [
        "df_star_review.head()"
      ],
      "execution_count": 5,
      "outputs": [
        {
          "output_type": "execute_result",
          "data": {
            "text/html": [
              "<div>\n",
              "<style scoped>\n",
              "    .dataframe tbody tr th:only-of-type {\n",
              "        vertical-align: middle;\n",
              "    }\n",
              "\n",
              "    .dataframe tbody tr th {\n",
              "        vertical-align: top;\n",
              "    }\n",
              "\n",
              "    .dataframe thead th {\n",
              "        text-align: right;\n",
              "    }\n",
              "</style>\n",
              "<table border=\"1\" class=\"dataframe\">\n",
              "  <thead>\n",
              "    <tr style=\"text-align: right;\">\n",
              "      <th></th>\n",
              "      <th>star_rating</th>\n",
              "      <th>review_body</th>\n",
              "    </tr>\n",
              "  </thead>\n",
              "  <tbody>\n",
              "    <tr>\n",
              "      <th>0</th>\n",
              "      <td>5</td>\n",
              "      <td>As described.</td>\n",
              "    </tr>\n",
              "    <tr>\n",
              "      <th>1</th>\n",
              "      <td>5</td>\n",
              "      <td>It works as advertising.</td>\n",
              "    </tr>\n",
              "    <tr>\n",
              "      <th>2</th>\n",
              "      <td>5</td>\n",
              "      <td>Works pissa</td>\n",
              "    </tr>\n",
              "    <tr>\n",
              "      <th>3</th>\n",
              "      <td>1</td>\n",
              "      <td>Did not work at all.</td>\n",
              "    </tr>\n",
              "    <tr>\n",
              "      <th>4</th>\n",
              "      <td>5</td>\n",
              "      <td>Works well. Bass is somewhat lacking but is pr...</td>\n",
              "    </tr>\n",
              "  </tbody>\n",
              "</table>\n",
              "</div>"
            ],
            "text/plain": [
              "   star_rating                                        review_body\n",
              "0            5                                      As described.\n",
              "1            5                           It works as advertising.\n",
              "2            5                                        Works pissa\n",
              "3            1                               Did not work at all.\n",
              "4            5  Works well. Bass is somewhat lacking but is pr..."
            ]
          },
          "metadata": {},
          "execution_count": 5
        }
      ]
    },
    {
      "cell_type": "code",
      "metadata": {
        "id": "x_3kgznGFHPe"
      },
      "source": [
        "df_star_review_sampled = df_star_review.sample(100_000)"
      ],
      "execution_count": 6,
      "outputs": []
    },
    {
      "cell_type": "code",
      "metadata": {
        "id": "l9z2RATFFzI_"
      },
      "source": [
        "df_star_review_sampled.dropna(inplace=True)\n",
        "\n",
        "blanks = []  # start with an empty list\n",
        "\n",
        "for i,lb,rv in df_star_review_sampled.itertuples():  \n",
        "    if type(rv)==str:            \n",
        "        if rv.isspace():        \n",
        "            blanks.append(i)     \n",
        "\n",
        "df_star_review_sampled.drop(blanks, inplace=True)"
      ],
      "execution_count": 7,
      "outputs": []
    },
    {
      "cell_type": "code",
      "metadata": {
        "colab": {
          "base_uri": "https://localhost:8080/"
        },
        "id": "KwpKpuRo5FjX",
        "outputId": "cfbb1f49-2fc7-4dce-8ae4-b93b793c96e4"
      },
      "source": [
        "pd.set_option('max_colwidth', 400)\n",
        "pd.describe_option('max_colwidth')"
      ],
      "execution_count": 8,
      "outputs": [
        {
          "output_type": "stream",
          "name": "stdout",
          "text": [
            "display.max_colwidth : int or None\n",
            "    The maximum width in characters of a column in the repr of\n",
            "    a pandas data structure. When the column overflows, a \"...\"\n",
            "    placeholder is embedded in the output. A 'None' value means unlimited.\n",
            "    [default: 50] [currently: 400]\n"
          ]
        }
      ]
    },
    {
      "cell_type": "code",
      "metadata": {
        "colab": {
          "base_uri": "https://localhost:8080/",
          "height": 793
        },
        "id": "HohA7B2Ff8GD",
        "outputId": "a3d7fd81-0b6a-4ff0-e4ab-9ad61ce44771"
      },
      "source": [
        " review_body = df_star_review_sampled['review_body']\n",
        " review_body = str(review_body).encode('utf-8')\n",
        "df_star_review_sampled['scores'] = df_star_review_sampled[str('review_body')].apply(lambda review_body: sid.polarity_scores(review_body))\n",
        "\n",
        "df_star_review_sampled.head(100)\n"
      ],
      "execution_count": 9,
      "outputs": [
        {
          "output_type": "execute_result",
          "data": {
            "text/html": [
              "<div>\n",
              "<style scoped>\n",
              "    .dataframe tbody tr th:only-of-type {\n",
              "        vertical-align: middle;\n",
              "    }\n",
              "\n",
              "    .dataframe tbody tr th {\n",
              "        vertical-align: top;\n",
              "    }\n",
              "\n",
              "    .dataframe thead th {\n",
              "        text-align: right;\n",
              "    }\n",
              "</style>\n",
              "<table border=\"1\" class=\"dataframe\">\n",
              "  <thead>\n",
              "    <tr style=\"text-align: right;\">\n",
              "      <th></th>\n",
              "      <th>star_rating</th>\n",
              "      <th>review_body</th>\n",
              "      <th>scores</th>\n",
              "    </tr>\n",
              "  </thead>\n",
              "  <tbody>\n",
              "    <tr>\n",
              "      <th>98188</th>\n",
              "      <td>1</td>\n",
              "      <td>Snapped at one end in less than a day of use. Can't return for I am using it outside of USA.</td>\n",
              "      <td>{'neg': 0.0, 'neu': 1.0, 'pos': 0.0, 'compound': 0.0}</td>\n",
              "    </tr>\n",
              "    <tr>\n",
              "      <th>41771</th>\n",
              "      <td>1</td>\n",
              "      <td>Defective!! Right ear doesn't work and yes the cords are plugged in all the way. I tried multiple sources. Pretty sad considering how much they charged for them. Do NOT buy.</td>\n",
              "      <td>{'neg': 0.274, 'neu': 0.644, 'pos': 0.082, 'compound': -0.7537}</td>\n",
              "    </tr>\n",
              "    <tr>\n",
              "      <th>31690</th>\n",
              "      <td>1</td>\n",
              "      <td>I purchased 5 of these to power hobby projects.  I was using three constantly for about a month and two of them failed and one would have failed within a very short time had I not unplugged it.  When I opened the case on the one that had not failed I could see the electrolytic capacitor bulging.  The problem is a small surface mount resistor on the back of the circuit board, marked 680, which ...</td>\n",
              "      <td>{'neg': 0.071, 'neu': 0.879, 'pos': 0.049, 'compound': -0.597}</td>\n",
              "    </tr>\n",
              "    <tr>\n",
              "      <th>113259</th>\n",
              "      <td>5</td>\n",
              "      <td>thank you</td>\n",
              "      <td>{'neg': 0.0, 'neu': 0.286, 'pos': 0.714, 'compound': 0.3612}</td>\n",
              "    </tr>\n",
              "    <tr>\n",
              "      <th>336977</th>\n",
              "      <td>4</td>\n",
              "      <td>It's very comfortable.</td>\n",
              "      <td>{'neg': 0.0, 'neu': 0.358, 'pos': 0.642, 'compound': 0.5563}</td>\n",
              "    </tr>\n",
              "    <tr>\n",
              "      <th>...</th>\n",
              "      <td>...</td>\n",
              "      <td>...</td>\n",
              "      <td>...</td>\n",
              "    </tr>\n",
              "    <tr>\n",
              "      <th>91192</th>\n",
              "      <td>2</td>\n",
              "      <td>Worked great for about 3 weeks...then they would no longer charge...had to send the defective headset to Monoprice for a new replacement...I am still awaiting the replacement...it has now been two weeks gone and I do not have the item I purchased...buyer beware!!!</td>\n",
              "      <td>{'neg': 0.13, 'neu': 0.781, 'pos': 0.089, 'compound': 0.2206}</td>\n",
              "    </tr>\n",
              "    <tr>\n",
              "      <th>353523</th>\n",
              "      <td>3</td>\n",
              "      <td>This product produces a very pleasing HD image.  Unfortunately the reception is very sensitive to movement.  It's advertised as a multidirectional device that does not require precise directional positioning.  I find the slightest movement can cause pixelization or complete loss of a channel.  I've had to move the devise several times in order to find the location that brings in all local stat...</td>\n",
              "      <td>{'neg': 0.085, 'neu': 0.83, 'pos': 0.085, 'compound': 0.2467}</td>\n",
              "    </tr>\n",
              "    <tr>\n",
              "      <th>245600</th>\n",
              "      <td>5</td>\n",
              "      <td>very good</td>\n",
              "      <td>{'neg': 0.0, 'neu': 0.238, 'pos': 0.762, 'compound': 0.4927}</td>\n",
              "    </tr>\n",
              "    <tr>\n",
              "      <th>83202</th>\n",
              "      <td>5</td>\n",
              "      <td>super great, works very well.  sound is awesome.</td>\n",
              "      <td>{'neg': 0.0, 'neu': 0.216, 'pos': 0.784, 'compound': 0.9381}</td>\n",
              "    </tr>\n",
              "    <tr>\n",
              "      <th>290871</th>\n",
              "      <td>1</td>\n",
              "      <td>Pay attention to the description....&amp;#34;flexible&amp;#34; is not &amp;#34;adjustable&amp;#34;.  I needed them to fit, meaning adjustable.  I had to return them.</td>\n",
              "      <td>{'neg': 0.07, 'neu': 0.804, 'pos': 0.126, 'compound': 0.2732}</td>\n",
              "    </tr>\n",
              "  </tbody>\n",
              "</table>\n",
              "<p>100 rows × 3 columns</p>\n",
              "</div>"
            ],
            "text/plain": [
              "        star_rating  ...                                                           scores\n",
              "98188             1  ...            {'neg': 0.0, 'neu': 1.0, 'pos': 0.0, 'compound': 0.0}\n",
              "41771             1  ...  {'neg': 0.274, 'neu': 0.644, 'pos': 0.082, 'compound': -0.7537}\n",
              "31690             1  ...   {'neg': 0.071, 'neu': 0.879, 'pos': 0.049, 'compound': -0.597}\n",
              "113259            5  ...     {'neg': 0.0, 'neu': 0.286, 'pos': 0.714, 'compound': 0.3612}\n",
              "336977            4  ...     {'neg': 0.0, 'neu': 0.358, 'pos': 0.642, 'compound': 0.5563}\n",
              "...             ...  ...                                                              ...\n",
              "91192             2  ...    {'neg': 0.13, 'neu': 0.781, 'pos': 0.089, 'compound': 0.2206}\n",
              "353523            3  ...    {'neg': 0.085, 'neu': 0.83, 'pos': 0.085, 'compound': 0.2467}\n",
              "245600            5  ...     {'neg': 0.0, 'neu': 0.238, 'pos': 0.762, 'compound': 0.4927}\n",
              "83202             5  ...     {'neg': 0.0, 'neu': 0.216, 'pos': 0.784, 'compound': 0.9381}\n",
              "290871            1  ...    {'neg': 0.07, 'neu': 0.804, 'pos': 0.126, 'compound': 0.2732}\n",
              "\n",
              "[100 rows x 3 columns]"
            ]
          },
          "metadata": {},
          "execution_count": 9
        }
      ]
    },
    {
      "cell_type": "code",
      "metadata": {
        "colab": {
          "base_uri": "https://localhost:8080/",
          "height": 17
        },
        "id": "5NUwGJp98z5M",
        "outputId": "10b402ed-3ece-475d-da73-2d6dfa1d7137"
      },
      "source": [
        "from google.colab import files\n",
        "import pandas as pd\n",
        "df_star_review_sampled.head(10000).to_csv('PostAnalysis.csv')\n",
        "files.download('PostAnalysis.csv')"
      ],
      "execution_count": 11,
      "outputs": [
        {
          "output_type": "display_data",
          "data": {
            "application/javascript": [
              "\n",
              "    async function download(id, filename, size) {\n",
              "      if (!google.colab.kernel.accessAllowed) {\n",
              "        return;\n",
              "      }\n",
              "      const div = document.createElement('div');\n",
              "      const label = document.createElement('label');\n",
              "      label.textContent = `Downloading \"${filename}\": `;\n",
              "      div.appendChild(label);\n",
              "      const progress = document.createElement('progress');\n",
              "      progress.max = size;\n",
              "      div.appendChild(progress);\n",
              "      document.body.appendChild(div);\n",
              "\n",
              "      const buffers = [];\n",
              "      let downloaded = 0;\n",
              "\n",
              "      const channel = await google.colab.kernel.comms.open(id);\n",
              "      // Send a message to notify the kernel that we're ready.\n",
              "      channel.send({})\n",
              "\n",
              "      for await (const message of channel.messages) {\n",
              "        // Send a message to notify the kernel that we're ready.\n",
              "        channel.send({})\n",
              "        if (message.buffers) {\n",
              "          for (const buffer of message.buffers) {\n",
              "            buffers.push(buffer);\n",
              "            downloaded += buffer.byteLength;\n",
              "            progress.value = downloaded;\n",
              "          }\n",
              "        }\n",
              "      }\n",
              "      const blob = new Blob(buffers, {type: 'application/binary'});\n",
              "      const a = document.createElement('a');\n",
              "      a.href = window.URL.createObjectURL(blob);\n",
              "      a.download = filename;\n",
              "      div.appendChild(a);\n",
              "      a.click();\n",
              "      div.remove();\n",
              "    }\n",
              "  "
            ],
            "text/plain": [
              "<IPython.core.display.Javascript object>"
            ]
          },
          "metadata": {}
        },
        {
          "output_type": "display_data",
          "data": {
            "application/javascript": [
              "download(\"download_f52d316c-0682-4cf5-b9fa-325419cbd11f\", \"PostAnalysis.csv\", 2913252)"
            ],
            "text/plain": [
              "<IPython.core.display.Javascript object>"
            ]
          },
          "metadata": {}
        }
      ]
    },
    {
      "cell_type": "code",
      "metadata": {
        "id": "RR4LKHrCEYq9"
      },
      "source": [
        "sample_df=pd.read_csv('PostAnalysis.csv')"
      ],
      "execution_count": 13,
      "outputs": []
    },
    {
      "cell_type": "code",
      "metadata": {
        "id": "fUOVrLbONQWD"
      },
      "source": [
        "one_star_df=sample_df.loc[sample_df['star_rating'] == 1]\n",
        "two_star_df=sample_df.loc[sample_df['star_rating'] == 2]\n",
        "three_star_df=sample_df.loc[sample_df['star_rating'] == 3]\n",
        "four_star_df=sample_df.loc[sample_df['star_rating'] == 4]\n",
        "five_star_df=sample_df.loc[sample_df['star_rating'] == 5]"
      ],
      "execution_count": 14,
      "outputs": []
    },
    {
      "cell_type": "code",
      "metadata": {
        "id": "ZE9WfWgWTfvD"
      },
      "source": [
        "def plot_neg_scores(df):\n",
        "  out = pd.cut(df['neg'], bins=[0, 0.1, 0.2,0.3, 0.4,0.5, 0.6,0.7, 0.8, 0.9, 1], include_lowest=True)\n",
        "  ax = out.value_counts(sort=False).plot.bar(rot=0, color=\"b\", figsize=(16,6))\n",
        "  plt.show()"
      ],
      "execution_count": 15,
      "outputs": []
    },
    {
      "cell_type": "code",
      "metadata": {
        "id": "E7A8lvykTv6F"
      },
      "source": [
        "def plot_pos_scores(df):\n",
        "  out = pd.cut(df['pos'], bins=[0, 0.1, 0.2,0.3, 0.4,0.5, 0.6,0.7, 0.8, 0.9, 1], include_lowest=True)\n",
        "  ax = out.value_counts(sort=False).plot.bar(rot=0, color=\"b\", figsize=(16,4))\n",
        "  plt.show()"
      ],
      "execution_count": 16,
      "outputs": []
    },
    {
      "cell_type": "code",
      "metadata": {
        "id": "tjbtajJZT1Cq"
      },
      "source": [
        "def plot_neu_scores(df):\n",
        "  out = pd.cut(df['neu'], bins=[0, 0.1, 0.2,0.3, 0.4,0.5, 0.6,0.7, 0.8, 0.9, 1], include_lowest=True)\n",
        "  ax = out.value_counts(sort=False).plot.bar(rot=0, color=\"b\", figsize=(16,4))\n",
        "  plt.show()"
      ],
      "execution_count": 17,
      "outputs": []
    },
    {
      "cell_type": "code",
      "metadata": {
        "id": "ZVYl_eFCZj13"
      },
      "source": [
        "def plot_com_scores(df):\n",
        "  out = pd.cut(df['compound'], bins=[-1, -0.5, 0, 0.5, 1], include_lowest=True)\n",
        "  ax = out.value_counts(sort=False).plot.bar(rot=0, color=\"b\", figsize=(16,4))\n",
        "  plt.show()"
      ],
      "execution_count": 18,
      "outputs": []
    },
    {
      "cell_type": "code",
      "metadata": {
        "id": "pkXddcjST-gH"
      },
      "source": [
        "plot_neg_scores(one_star_df)"
      ],
      "execution_count": null,
      "outputs": []
    },
    {
      "cell_type": "code",
      "metadata": {
        "id": "gOPRLu-6UKkq"
      },
      "source": [
        "plot_neg_scores(two_star_df)"
      ],
      "execution_count": null,
      "outputs": []
    },
    {
      "cell_type": "code",
      "metadata": {
        "id": "KV-XKgBjW8Wj"
      },
      "source": [
        "plot_neg_scores(three_star_df)"
      ],
      "execution_count": null,
      "outputs": []
    },
    {
      "cell_type": "code",
      "metadata": {
        "id": "EVOMt64cUC6O"
      },
      "source": [
        "plot_pos_scores(one_star_df)"
      ],
      "execution_count": null,
      "outputs": []
    },
    {
      "cell_type": "code",
      "metadata": {
        "id": "pe8UX4UgUG-x"
      },
      "source": [
        "plot_neu_scores(one_star_df)"
      ],
      "execution_count": null,
      "outputs": []
    },
    {
      "cell_type": "code",
      "metadata": {
        "id": "iJZA-fKrWXGB"
      },
      "source": [
        "plot_pos_scores(two_star_df)"
      ],
      "execution_count": null,
      "outputs": []
    },
    {
      "cell_type": "code",
      "metadata": {
        "id": "cC_VUEE3WjUQ"
      },
      "source": [
        "plot_neu_scores(two_star_df)"
      ],
      "execution_count": null,
      "outputs": []
    },
    {
      "cell_type": "code",
      "metadata": {
        "id": "1rWCYz6yXVS9"
      },
      "source": [
        "plot_pos_scores(three_star_df)"
      ],
      "execution_count": null,
      "outputs": []
    },
    {
      "cell_type": "code",
      "metadata": {
        "id": "936omt_3Xb6g"
      },
      "source": [
        "plot_neu_scores(three_star_df)"
      ],
      "execution_count": null,
      "outputs": []
    },
    {
      "cell_type": "code",
      "metadata": {
        "id": "FiwBiJkAXnDW"
      },
      "source": [
        "plot_neg_scores(four_star_df)"
      ],
      "execution_count": null,
      "outputs": []
    },
    {
      "cell_type": "code",
      "metadata": {
        "id": "8tXQ9i6aXy2U"
      },
      "source": [
        "plot_pos_scores(four_star_df)"
      ],
      "execution_count": null,
      "outputs": []
    },
    {
      "cell_type": "code",
      "metadata": {
        "id": "AuhETcC-X9RG"
      },
      "source": [
        "plot_neu_scores(four_star_df)"
      ],
      "execution_count": null,
      "outputs": []
    },
    {
      "cell_type": "code",
      "metadata": {
        "id": "fQUwCQbDYD8y"
      },
      "source": [
        "plot_neg_scores(five_star_df)"
      ],
      "execution_count": null,
      "outputs": []
    },
    {
      "cell_type": "code",
      "metadata": {
        "id": "xrLi1nNAYLyZ"
      },
      "source": [
        "plot_pos_scores(five_star_df)"
      ],
      "execution_count": null,
      "outputs": []
    },
    {
      "cell_type": "code",
      "metadata": {
        "id": "sEFkyMHZYXCD"
      },
      "source": [
        "plot_neu_scores(five_star_df)"
      ],
      "execution_count": null,
      "outputs": []
    },
    {
      "cell_type": "code",
      "metadata": {
        "id": "HFfw5Gvcd72i"
      },
      "source": [
        "counts=[0,0,0,0,0]\n",
        "for i,x in sample_df.iterrows():\n",
        "  counts[classify_rec(x)-1]=counts[classify_rec(x)-1]+1"
      ],
      "execution_count": null,
      "outputs": []
    },
    {
      "cell_type": "code",
      "metadata": {
        "id": "z-Izp4SYerog"
      },
      "source": [
        "counts"
      ],
      "execution_count": null,
      "outputs": []
    },
    {
      "cell_type": "code",
      "metadata": {
        "id": "ZDm3N8iU3l-T"
      },
      "source": [
        "df  = pd.read_csv(\"PostAnalysis.csv\").sample(400)\n",
        "df.plot(kind='scatter',x='star_rating',y='compound') # scatter plot"
      ],
      "execution_count": null,
      "outputs": []
    }
  ]
}
